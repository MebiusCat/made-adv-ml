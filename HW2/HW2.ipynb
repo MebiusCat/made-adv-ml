{
 "cells": [
  {
   "cell_type": "code",
   "execution_count": 2,
   "metadata": {},
   "outputs": [],
   "source": [
    "import pickle\n",
    "\n",
    "import pandas as pd\n",
    "import numpy as np\n",
    "import tqdm\n",
    "\n",
    "from scipy.stats.stats import spearmanr\n",
    "from scipy.stats.stats import kendalltau\n",
    "\n",
    "from sklearn.linear_model import LogisticRegression\n",
    "from sklearn.preprocessing import OneHotEncoder"
   ]
  },
  {
   "cell_type": "markdown",
   "metadata": {},
   "source": [
    "### Задание 1. Считывание и предобработка данных"
   ]
  },
  {
   "cell_type": "code",
   "execution_count": 3,
   "metadata": {},
   "outputs": [],
   "source": [
    "with open('players.pkl', 'rb') as f:\n",
    "    players = pickle.load(f)\n",
    "    \n",
    "with open('tournaments.pkl', 'rb') as f:\n",
    "    tournaments = pickle.load(f)\n",
    "\n",
    "with open('results.pkl', 'rb') as f:\n",
    "    results = pickle.load(f)\n",
    "    \n",
    "df_players = pd.DataFrame(players.values()).set_index('id')\n",
    "\n",
    "df_tournaments = pd.DataFrame(tournaments.values()).set_index('id', drop=True)\n",
    "\n",
    "df_tournaments['t_id'] = df_tournaments.index\n",
    "df_tournaments['dateStart'] = pd.to_datetime(df_tournaments['dateStart'], utc=True)\n",
    "df_tournaments['dateEnd'] = pd.to_datetime(df_tournaments['dateEnd'], utc=True)\n",
    "\n",
    "df_tournaments['start_year'] = pd.DatetimeIndex(df_tournaments['dateStart']).year\n",
    "df_tournaments['start_month'] = pd.DatetimeIndex(df_tournaments['dateStart']).month\n",
    "\n",
    "df_tournaments['type_id'] = [v['id'] for v in df_tournaments['type']]\n",
    "df_tournaments['type_name'] = [v['name'] for v in df_tournaments['type']]\n",
    "\n",
    "df_tournaments['q_qty'] = df_tournaments['questionQty'].apply(\n",
    "                                            lambda qty: 0 if not qty else sum([v for k, v in qty.items()]))\n",
    "\n",
    "df_tournaments.drop('synchData', inplace=True, axis=1)\n",
    "df_tournaments.drop('orgcommittee', inplace=True, axis=1)\n",
    "df_tournaments.drop('type', inplace=True, axis=1)"
   ]
  },
  {
   "cell_type": "code",
   "execution_count": 6,
   "metadata": {},
   "outputs": [],
   "source": [
    "df_tournaments_train = df_tournaments[df_tournaments.start_year == 2019]\n",
    "df_tournaments_test = df_tournaments[df_tournaments.start_year == 2020]"
   ]
  },
  {
   "cell_type": "code",
   "execution_count": 163,
   "metadata": {},
   "outputs": [
    {
     "data": {
      "text/html": [
       "<div>\n",
       "<style scoped>\n",
       "    .dataframe tbody tr th:only-of-type {\n",
       "        vertical-align: middle;\n",
       "    }\n",
       "\n",
       "    .dataframe tbody tr th {\n",
       "        vertical-align: top;\n",
       "    }\n",
       "\n",
       "    .dataframe thead th {\n",
       "        text-align: right;\n",
       "    }\n",
       "</style>\n",
       "<table border=\"1\" class=\"dataframe\">\n",
       "  <thead>\n",
       "    <tr style=\"text-align: right;\">\n",
       "      <th></th>\n",
       "      <th>name</th>\n",
       "      <th>dateStart</th>\n",
       "      <th>dateEnd</th>\n",
       "      <th>season</th>\n",
       "      <th>questionQty</th>\n",
       "      <th>start_year</th>\n",
       "      <th>start_month</th>\n",
       "      <th>type_id</th>\n",
       "      <th>type_name</th>\n",
       "      <th>q_qty</th>\n",
       "    </tr>\n",
       "    <tr>\n",
       "      <th>id</th>\n",
       "      <th></th>\n",
       "      <th></th>\n",
       "      <th></th>\n",
       "      <th></th>\n",
       "      <th></th>\n",
       "      <th></th>\n",
       "      <th></th>\n",
       "      <th></th>\n",
       "      <th></th>\n",
       "      <th></th>\n",
       "    </tr>\n",
       "  </thead>\n",
       "  <tbody>\n",
       "    <tr>\n",
       "      <td>5551</td>\n",
       "      <td>Дилижанские игры</td>\n",
       "      <td>2019-04-12 10:00:00+00:00</td>\n",
       "      <td>2019-04-14 11:00:00+00:00</td>\n",
       "      <td>/seasons/52</td>\n",
       "      <td>{'1': 15, '2': 15, '3': 15, '4': 15, '5': 15}</td>\n",
       "      <td>2019</td>\n",
       "      <td>4</td>\n",
       "      <td>2</td>\n",
       "      <td>Обычный</td>\n",
       "      <td>75</td>\n",
       "    </tr>\n",
       "    <tr>\n",
       "      <td>5651</td>\n",
       "      <td>Первая октава: Прелюдия</td>\n",
       "      <td>2019-08-30 17:00:00+00:00</td>\n",
       "      <td>2019-09-03 17:00:00+00:00</td>\n",
       "      <td>/seasons/53</td>\n",
       "      <td>{'1': 12, '2': 12, '3': 12}</td>\n",
       "      <td>2019</td>\n",
       "      <td>8</td>\n",
       "      <td>3</td>\n",
       "      <td>Синхрон</td>\n",
       "      <td>36</td>\n",
       "    </tr>\n",
       "    <tr>\n",
       "      <td>5526</td>\n",
       "      <td>U-Mind Games – взрослые</td>\n",
       "      <td>2019-03-09 05:00:00+00:00</td>\n",
       "      <td>2019-03-10 11:00:00+00:00</td>\n",
       "      <td>/seasons/52</td>\n",
       "      <td>{'1': 12, '2': 12, '3': 12, '4': 12, '5': 12, ...</td>\n",
       "      <td>2019</td>\n",
       "      <td>3</td>\n",
       "      <td>2</td>\n",
       "      <td>Обычный</td>\n",
       "      <td>72</td>\n",
       "    </tr>\n",
       "    <tr>\n",
       "      <td>5206</td>\n",
       "      <td>Из Минска с любовью. Этап 6.</td>\n",
       "      <td>2019-04-20 16:00:00+00:00</td>\n",
       "      <td>2019-04-24 16:00:00+00:00</td>\n",
       "      <td>/seasons/52</td>\n",
       "      <td>{'1': 18, '2': 18}</td>\n",
       "      <td>2019</td>\n",
       "      <td>4</td>\n",
       "      <td>3</td>\n",
       "      <td>Синхрон</td>\n",
       "      <td>36</td>\n",
       "    </tr>\n",
       "    <tr>\n",
       "      <td>5974</td>\n",
       "      <td>Янтарный лингам</td>\n",
       "      <td>2019-10-04 15:00:00+00:00</td>\n",
       "      <td>2020-02-23 15:00:00+00:00</td>\n",
       "      <td>/seasons/53</td>\n",
       "      <td>{'1': 12, '2': 12, '3': 12}</td>\n",
       "      <td>2019</td>\n",
       "      <td>10</td>\n",
       "      <td>8</td>\n",
       "      <td>Асинхрон</td>\n",
       "      <td>36</td>\n",
       "    </tr>\n",
       "  </tbody>\n",
       "</table>\n",
       "</div>"
      ],
      "text/plain": [
       "                              name                 dateStart  \\\n",
       "id                                                             \n",
       "5551              Дилижанские игры 2019-04-12 10:00:00+00:00   \n",
       "5651       Первая октава: Прелюдия 2019-08-30 17:00:00+00:00   \n",
       "5526       U-Mind Games – взрослые 2019-03-09 05:00:00+00:00   \n",
       "5206  Из Минска с любовью. Этап 6. 2019-04-20 16:00:00+00:00   \n",
       "5974               Янтарный лингам 2019-10-04 15:00:00+00:00   \n",
       "\n",
       "                       dateEnd       season  \\\n",
       "id                                            \n",
       "5551 2019-04-14 11:00:00+00:00  /seasons/52   \n",
       "5651 2019-09-03 17:00:00+00:00  /seasons/53   \n",
       "5526 2019-03-10 11:00:00+00:00  /seasons/52   \n",
       "5206 2019-04-24 16:00:00+00:00  /seasons/52   \n",
       "5974 2020-02-23 15:00:00+00:00  /seasons/53   \n",
       "\n",
       "                                            questionQty  start_year  \\\n",
       "id                                                                    \n",
       "5551      {'1': 15, '2': 15, '3': 15, '4': 15, '5': 15}        2019   \n",
       "5651                        {'1': 12, '2': 12, '3': 12}        2019   \n",
       "5526  {'1': 12, '2': 12, '3': 12, '4': 12, '5': 12, ...        2019   \n",
       "5206                                 {'1': 18, '2': 18}        2019   \n",
       "5974                        {'1': 12, '2': 12, '3': 12}        2019   \n",
       "\n",
       "      start_month  type_id type_name  q_qty  \n",
       "id                                           \n",
       "5551            4        2   Обычный     75  \n",
       "5651            8        3   Синхрон     36  \n",
       "5526            3        2   Обычный     72  \n",
       "5206            4        3   Синхрон     36  \n",
       "5974           10        8  Асинхрон     36  "
      ]
     },
     "execution_count": 163,
     "metadata": {},
     "output_type": "execute_result"
    }
   ],
   "source": [
    "df_tournaments_train.sample(5)"
   ]
  },
  {
   "cell_type": "code",
   "execution_count": 252,
   "metadata": {},
   "outputs": [
    {
     "data": {
      "text/plain": [
       "count    416.000000\n",
       "mean      43.593750\n",
       "std       23.267763\n",
       "min        3.000000\n",
       "25%       36.000000\n",
       "50%       36.000000\n",
       "75%       45.000000\n",
       "max      330.000000\n",
       "Name: q_qty, dtype: float64"
      ]
     },
     "execution_count": 252,
     "metadata": {},
     "output_type": "execute_result"
    }
   ],
   "source": [
    "df_tournaments_test.q_qty.describe()"
   ]
  },
  {
   "cell_type": "markdown",
   "metadata": {},
   "source": [
    "### Задание 2. Построение baseline-модели для обучения рейтинг-листа игроков\n",
    "\n",
    "Преобразуем данные в повопросные резулультаты для каждого игрока. Вопросы разделим на 5 уровней сложности и просэмплировав результаты нескольких турниров посчитаем рейтинг-лист."
   ]
  },
  {
   "cell_type": "code",
   "execution_count": 17,
   "metadata": {},
   "outputs": [
    {
     "name": "stderr",
     "output_type": "stream",
     "text": [
      "100%|██████████| 689/689 [00:02<00:00, 264.92it/s]\n"
     ]
    }
   ],
   "source": [
    "question_result = []\n",
    "\n",
    "for t_id in tqdm.tqdm(df_tournaments_train.index):\n",
    "    q_qty = df_tournaments.loc[t_id]['q_qty']\n",
    "\n",
    "    if q_qty == 0:\n",
    "        continue   \n",
    "    \n",
    "    q_correct = np.zeros(q_qty)\n",
    "    q_canceled = np.zeros(q_qty)\n",
    "    q_wrong = np.zeros(q_qty)\n",
    "        \n",
    "    for team in results[t_id]:\n",
    "        if team.get('mask') is None:\n",
    "            continue\n",
    "            \n",
    "        curr_correct = np.array([1 if x == '1' else 0 for x in team['mask']])\n",
    "        curr_wrong = np.array([1 if (x != 'X') and (x != '1') else 0 for x in team['mask']])\n",
    "        curr_canceled = np.array([1 if x == 'X' else 0 for x in team['mask']])\n",
    "        \n",
    "        answer_size = len(team['mask'])\n",
    "        answer_size = answer_size if q_qty > answer_size else q_qty\n",
    "\n",
    "        q_correct[:answer_size] += curr_correct[:answer_size]           \n",
    "        q_wrong[:answer_size] += curr_wrong[:answer_size]           \n",
    "        q_canceled[:answer_size] += curr_canceled[:answer_size]                  \n",
    "            \n",
    "    for i, res in enumerate(zip(q_correct, q_wrong, q_canceled)):\n",
    "        if res[0] + res[1] <= 0:\n",
    "            continue\n",
    "        \n",
    "        question_result.append({'idx': f'{t_id}_{i + 1}', 't_id': t_id, 'q_id': f'{i + 1}', \n",
    "                                'correct': res[0], 'wrong': res[1], 'canceled': res[2],\n",
    "                                'difficulty': 1 - res[0] / (res[0] + res[1])})"
   ]
  },
  {
   "cell_type": "code",
   "execution_count": 18,
   "metadata": {},
   "outputs": [
    {
     "data": {
      "text/html": [
       "<div>\n",
       "<style scoped>\n",
       "    .dataframe tbody tr th:only-of-type {\n",
       "        vertical-align: middle;\n",
       "    }\n",
       "\n",
       "    .dataframe tbody tr th {\n",
       "        vertical-align: top;\n",
       "    }\n",
       "\n",
       "    .dataframe thead th {\n",
       "        text-align: right;\n",
       "    }\n",
       "</style>\n",
       "<table border=\"1\" class=\"dataframe\">\n",
       "  <thead>\n",
       "    <tr style=\"text-align: right;\">\n",
       "      <th></th>\n",
       "      <th>idx</th>\n",
       "      <th>t_id</th>\n",
       "      <th>q_id</th>\n",
       "      <th>correct</th>\n",
       "      <th>wrong</th>\n",
       "      <th>difficulty</th>\n",
       "    </tr>\n",
       "  </thead>\n",
       "  <tbody>\n",
       "    <tr>\n",
       "      <td>33367</td>\n",
       "      <td>6255_212</td>\n",
       "      <td>6255</td>\n",
       "      <td>212</td>\n",
       "      <td>119.0</td>\n",
       "      <td>233.0</td>\n",
       "      <td>0.661932</td>\n",
       "    </tr>\n",
       "    <tr>\n",
       "      <td>33368</td>\n",
       "      <td>6255_213</td>\n",
       "      <td>6255</td>\n",
       "      <td>213</td>\n",
       "      <td>238.0</td>\n",
       "      <td>114.0</td>\n",
       "      <td>0.323864</td>\n",
       "    </tr>\n",
       "    <tr>\n",
       "      <td>33369</td>\n",
       "      <td>6255_214</td>\n",
       "      <td>6255</td>\n",
       "      <td>214</td>\n",
       "      <td>201.0</td>\n",
       "      <td>151.0</td>\n",
       "      <td>0.428977</td>\n",
       "    </tr>\n",
       "    <tr>\n",
       "      <td>33370</td>\n",
       "      <td>6255_215</td>\n",
       "      <td>6255</td>\n",
       "      <td>215</td>\n",
       "      <td>32.0</td>\n",
       "      <td>320.0</td>\n",
       "      <td>0.909091</td>\n",
       "    </tr>\n",
       "    <tr>\n",
       "      <td>33371</td>\n",
       "      <td>6255_216</td>\n",
       "      <td>6255</td>\n",
       "      <td>216</td>\n",
       "      <td>46.0</td>\n",
       "      <td>306.0</td>\n",
       "      <td>0.869318</td>\n",
       "    </tr>\n",
       "  </tbody>\n",
       "</table>\n",
       "</div>"
      ],
      "text/plain": [
       "            idx  t_id q_id  correct  wrong  difficulty\n",
       "33367  6255_212  6255  212    119.0  233.0    0.661932\n",
       "33368  6255_213  6255  213    238.0  114.0    0.323864\n",
       "33369  6255_214  6255  214    201.0  151.0    0.428977\n",
       "33370  6255_215  6255  215     32.0  320.0    0.909091\n",
       "33371  6255_216  6255  216     46.0  306.0    0.869318"
      ]
     },
     "execution_count": 18,
     "metadata": {},
     "output_type": "execute_result"
    }
   ],
   "source": [
    "#Оставим только те вопросы, которые не были отменены  \n",
    "df_questions = pd.DataFrame(question_result)\n",
    "canceled_questions = df_questions[df_questions.canceled != 0]['idx'].values\n",
    "df_questions = df_questions[df_questions.canceled == 0]\n",
    "df_questions.drop('canceled', inplace=True, axis=1)\n",
    "df_questions.tail(5)"
   ]
  },
  {
   "cell_type": "code",
   "execution_count": 19,
   "metadata": {},
   "outputs": [
    {
     "data": {
      "text/plain": [
       "array(['6085_3', '6085_48', '6085_93', '6255_2', '6255_38', '6255_74',\n",
       "       '6255_110', '6255_146'], dtype=object)"
      ]
     },
     "execution_count": 19,
     "metadata": {},
     "output_type": "execute_result"
    }
   ],
   "source": [
    "canceled_questions"
   ]
  },
  {
   "cell_type": "code",
   "execution_count": 22,
   "metadata": {},
   "outputs": [],
   "source": [
    "df_questions['d_rank'] = pd.cut(df_questions.difficulty, bins=quntile.values, labels=[1, 2, 3, 4, 5])"
   ]
  },
  {
   "cell_type": "code",
   "execution_count": 23,
   "metadata": {},
   "outputs": [
    {
     "data": {
      "text/html": [
       "<div>\n",
       "<style scoped>\n",
       "    .dataframe tbody tr th:only-of-type {\n",
       "        vertical-align: middle;\n",
       "    }\n",
       "\n",
       "    .dataframe tbody tr th {\n",
       "        vertical-align: top;\n",
       "    }\n",
       "\n",
       "    .dataframe thead th {\n",
       "        text-align: right;\n",
       "    }\n",
       "</style>\n",
       "<table border=\"1\" class=\"dataframe\">\n",
       "  <thead>\n",
       "    <tr style=\"text-align: right;\">\n",
       "      <th></th>\n",
       "      <th>idx</th>\n",
       "      <th>t_id</th>\n",
       "      <th>q_id</th>\n",
       "      <th>correct</th>\n",
       "      <th>wrong</th>\n",
       "      <th>difficulty</th>\n",
       "      <th>d_rank</th>\n",
       "    </tr>\n",
       "  </thead>\n",
       "  <tbody>\n",
       "    <tr>\n",
       "      <td>0</td>\n",
       "      <td>4772_1</td>\n",
       "      <td>4772</td>\n",
       "      <td>1</td>\n",
       "      <td>204.0</td>\n",
       "      <td>27.0</td>\n",
       "      <td>0.116883</td>\n",
       "      <td>1</td>\n",
       "    </tr>\n",
       "    <tr>\n",
       "      <td>1</td>\n",
       "      <td>4772_2</td>\n",
       "      <td>4772</td>\n",
       "      <td>2</td>\n",
       "      <td>180.0</td>\n",
       "      <td>51.0</td>\n",
       "      <td>0.220779</td>\n",
       "      <td>1</td>\n",
       "    </tr>\n",
       "    <tr>\n",
       "      <td>2</td>\n",
       "      <td>4772_3</td>\n",
       "      <td>4772</td>\n",
       "      <td>3</td>\n",
       "      <td>103.0</td>\n",
       "      <td>128.0</td>\n",
       "      <td>0.554113</td>\n",
       "      <td>3</td>\n",
       "    </tr>\n",
       "    <tr>\n",
       "      <td>3</td>\n",
       "      <td>4772_4</td>\n",
       "      <td>4772</td>\n",
       "      <td>4</td>\n",
       "      <td>120.0</td>\n",
       "      <td>111.0</td>\n",
       "      <td>0.480519</td>\n",
       "      <td>2</td>\n",
       "    </tr>\n",
       "    <tr>\n",
       "      <td>4</td>\n",
       "      <td>4772_5</td>\n",
       "      <td>4772</td>\n",
       "      <td>5</td>\n",
       "      <td>203.0</td>\n",
       "      <td>28.0</td>\n",
       "      <td>0.121212</td>\n",
       "      <td>1</td>\n",
       "    </tr>\n",
       "    <tr>\n",
       "      <td>...</td>\n",
       "      <td>...</td>\n",
       "      <td>...</td>\n",
       "      <td>...</td>\n",
       "      <td>...</td>\n",
       "      <td>...</td>\n",
       "      <td>...</td>\n",
       "      <td>...</td>\n",
       "    </tr>\n",
       "    <tr>\n",
       "      <td>33367</td>\n",
       "      <td>6255_212</td>\n",
       "      <td>6255</td>\n",
       "      <td>212</td>\n",
       "      <td>119.0</td>\n",
       "      <td>233.0</td>\n",
       "      <td>0.661932</td>\n",
       "      <td>3</td>\n",
       "    </tr>\n",
       "    <tr>\n",
       "      <td>33368</td>\n",
       "      <td>6255_213</td>\n",
       "      <td>6255</td>\n",
       "      <td>213</td>\n",
       "      <td>238.0</td>\n",
       "      <td>114.0</td>\n",
       "      <td>0.323864</td>\n",
       "      <td>2</td>\n",
       "    </tr>\n",
       "    <tr>\n",
       "      <td>33369</td>\n",
       "      <td>6255_214</td>\n",
       "      <td>6255</td>\n",
       "      <td>214</td>\n",
       "      <td>201.0</td>\n",
       "      <td>151.0</td>\n",
       "      <td>0.428977</td>\n",
       "      <td>2</td>\n",
       "    </tr>\n",
       "    <tr>\n",
       "      <td>33370</td>\n",
       "      <td>6255_215</td>\n",
       "      <td>6255</td>\n",
       "      <td>215</td>\n",
       "      <td>32.0</td>\n",
       "      <td>320.0</td>\n",
       "      <td>0.909091</td>\n",
       "      <td>5</td>\n",
       "    </tr>\n",
       "    <tr>\n",
       "      <td>33371</td>\n",
       "      <td>6255_216</td>\n",
       "      <td>6255</td>\n",
       "      <td>216</td>\n",
       "      <td>46.0</td>\n",
       "      <td>306.0</td>\n",
       "      <td>0.869318</td>\n",
       "      <td>5</td>\n",
       "    </tr>\n",
       "  </tbody>\n",
       "</table>\n",
       "<p>33364 rows × 7 columns</p>\n",
       "</div>"
      ],
      "text/plain": [
       "            idx  t_id q_id  correct  wrong  difficulty d_rank\n",
       "0        4772_1  4772    1    204.0   27.0    0.116883      1\n",
       "1        4772_2  4772    2    180.0   51.0    0.220779      1\n",
       "2        4772_3  4772    3    103.0  128.0    0.554113      3\n",
       "3        4772_4  4772    4    120.0  111.0    0.480519      2\n",
       "4        4772_5  4772    5    203.0   28.0    0.121212      1\n",
       "...         ...   ...  ...      ...    ...         ...    ...\n",
       "33367  6255_212  6255  212    119.0  233.0    0.661932      3\n",
       "33368  6255_213  6255  213    238.0  114.0    0.323864      2\n",
       "33369  6255_214  6255  214    201.0  151.0    0.428977      2\n",
       "33370  6255_215  6255  215     32.0  320.0    0.909091      5\n",
       "33371  6255_216  6255  216     46.0  306.0    0.869318      5\n",
       "\n",
       "[33364 rows x 7 columns]"
      ]
     },
     "execution_count": 23,
     "metadata": {},
     "output_type": "execute_result"
    }
   ],
   "source": [
    "df_questions"
   ]
  },
  {
   "cell_type": "code",
   "execution_count": 25,
   "metadata": {},
   "outputs": [
    {
     "name": "stderr",
     "output_type": "stream",
     "text": [
      "100%|██████████| 689/689 [00:43<00:00, 15.87it/s]\n"
     ]
    },
    {
     "data": {
      "text/html": [
       "<div>\n",
       "<style scoped>\n",
       "    .dataframe tbody tr th:only-of-type {\n",
       "        vertical-align: middle;\n",
       "    }\n",
       "\n",
       "    .dataframe tbody tr th {\n",
       "        vertical-align: top;\n",
       "    }\n",
       "\n",
       "    .dataframe thead th {\n",
       "        text-align: right;\n",
       "    }\n",
       "</style>\n",
       "<table border=\"1\" class=\"dataframe\">\n",
       "  <thead>\n",
       "    <tr style=\"text-align: right;\">\n",
       "      <th></th>\n",
       "      <th>m_id</th>\n",
       "      <th>q_id</th>\n",
       "      <th>answered</th>\n",
       "      <th>failed</th>\n",
       "    </tr>\n",
       "  </thead>\n",
       "  <tbody>\n",
       "    <tr>\n",
       "      <td>0</td>\n",
       "      <td>6212</td>\n",
       "      <td>4772_1</td>\n",
       "      <td>1</td>\n",
       "      <td>0</td>\n",
       "    </tr>\n",
       "    <tr>\n",
       "      <td>1</td>\n",
       "      <td>18332</td>\n",
       "      <td>4772_1</td>\n",
       "      <td>1</td>\n",
       "      <td>0</td>\n",
       "    </tr>\n",
       "    <tr>\n",
       "      <td>2</td>\n",
       "      <td>18036</td>\n",
       "      <td>4772_1</td>\n",
       "      <td>1</td>\n",
       "      <td>0</td>\n",
       "    </tr>\n",
       "    <tr>\n",
       "      <td>3</td>\n",
       "      <td>22799</td>\n",
       "      <td>4772_1</td>\n",
       "      <td>1</td>\n",
       "      <td>0</td>\n",
       "    </tr>\n",
       "    <tr>\n",
       "      <td>4</td>\n",
       "      <td>15456</td>\n",
       "      <td>4772_1</td>\n",
       "      <td>1</td>\n",
       "      <td>0</td>\n",
       "    </tr>\n",
       "  </tbody>\n",
       "</table>\n",
       "</div>"
      ],
      "text/plain": [
       "    m_id    q_id  answered  failed\n",
       "0   6212  4772_1         1       0\n",
       "1  18332  4772_1         1       0\n",
       "2  18036  4772_1         1       0\n",
       "3  22799  4772_1         1       0\n",
       "4  15456  4772_1         1       0"
      ]
     },
     "execution_count": 25,
     "metadata": {},
     "output_type": "execute_result"
    }
   ],
   "source": [
    "players_result = []\n",
    "\n",
    "for t_id in tqdm.tqdm(df_tournaments_train.index):\n",
    "# for t_id in tqdm.tqdm(df_tournaments_train.loc[[6085]].index):\n",
    "\n",
    "    q_qty = df_tournaments.loc[t_id]['q_qty']\n",
    "    \n",
    "    if q_qty == 0:\n",
    "        continue   \n",
    "            \n",
    "    for team in results[t_id]:\n",
    "        if team.get('mask') is None:\n",
    "            continue\n",
    "                \n",
    "        answer_size = len(team['mask'])\n",
    "        answer_size = answer_size if q_qty > answer_size else q_qty\n",
    "            \n",
    "        for i, res in enumerate(team['mask'][:answer_size]):\n",
    "            if f'{t_id}_{i + 1}' in canceled_questions:\n",
    "                continue\n",
    "\n",
    "            for member in team['teamMembers']:\n",
    "                players_result.append({'m_id': member['player']['id'], 'q_id': f'{t_id}_{i + 1}',\n",
    "                                       'answered': 1 if res == '1' else 0 , 'failed': 0 if res == '1' else 1})\n",
    "                \n",
    "df_players_result = pd.DataFrame(players_result)\n",
    "df_players_result.head(5)"
   ]
  },
  {
   "cell_type": "code",
   "execution_count": 26,
   "metadata": {},
   "outputs": [
    {
     "data": {
      "text/plain": [
       "(21068129, 4)"
      ]
     },
     "execution_count": 26,
     "metadata": {},
     "output_type": "execute_result"
    }
   ],
   "source": [
    "df_players_result.shape"
   ]
  },
  {
   "cell_type": "code",
   "execution_count": 27,
   "metadata": {},
   "outputs": [],
   "source": [
    "df_players_result_extended = df_players_result.merge(df_questions, how='left', left_on='q_id', right_on='idx')"
   ]
  },
  {
   "cell_type": "code",
   "execution_count": 30,
   "metadata": {},
   "outputs": [
    {
     "data": {
      "text/html": [
       "<div>\n",
       "<style scoped>\n",
       "    .dataframe tbody tr th:only-of-type {\n",
       "        vertical-align: middle;\n",
       "    }\n",
       "\n",
       "    .dataframe tbody tr th {\n",
       "        vertical-align: top;\n",
       "    }\n",
       "\n",
       "    .dataframe thead th {\n",
       "        text-align: right;\n",
       "    }\n",
       "</style>\n",
       "<table border=\"1\" class=\"dataframe\">\n",
       "  <thead>\n",
       "    <tr style=\"text-align: right;\">\n",
       "      <th></th>\n",
       "      <th>m_id</th>\n",
       "      <th>q_id_x</th>\n",
       "      <th>answered</th>\n",
       "      <th>failed</th>\n",
       "      <th>idx</th>\n",
       "      <th>t_id</th>\n",
       "      <th>q_id_y</th>\n",
       "      <th>correct</th>\n",
       "      <th>wrong</th>\n",
       "      <th>difficulty</th>\n",
       "      <th>d_rank</th>\n",
       "    </tr>\n",
       "  </thead>\n",
       "  <tbody>\n",
       "    <tr>\n",
       "      <td>0</td>\n",
       "      <td>6212</td>\n",
       "      <td>4772_1</td>\n",
       "      <td>1</td>\n",
       "      <td>0</td>\n",
       "      <td>4772_1</td>\n",
       "      <td>4772.0</td>\n",
       "      <td>1</td>\n",
       "      <td>204.0</td>\n",
       "      <td>27.0</td>\n",
       "      <td>0.116883</td>\n",
       "      <td>1</td>\n",
       "    </tr>\n",
       "    <tr>\n",
       "      <td>1</td>\n",
       "      <td>18332</td>\n",
       "      <td>4772_1</td>\n",
       "      <td>1</td>\n",
       "      <td>0</td>\n",
       "      <td>4772_1</td>\n",
       "      <td>4772.0</td>\n",
       "      <td>1</td>\n",
       "      <td>204.0</td>\n",
       "      <td>27.0</td>\n",
       "      <td>0.116883</td>\n",
       "      <td>1</td>\n",
       "    </tr>\n",
       "    <tr>\n",
       "      <td>2</td>\n",
       "      <td>18036</td>\n",
       "      <td>4772_1</td>\n",
       "      <td>1</td>\n",
       "      <td>0</td>\n",
       "      <td>4772_1</td>\n",
       "      <td>4772.0</td>\n",
       "      <td>1</td>\n",
       "      <td>204.0</td>\n",
       "      <td>27.0</td>\n",
       "      <td>0.116883</td>\n",
       "      <td>1</td>\n",
       "    </tr>\n",
       "    <tr>\n",
       "      <td>3</td>\n",
       "      <td>22799</td>\n",
       "      <td>4772_1</td>\n",
       "      <td>1</td>\n",
       "      <td>0</td>\n",
       "      <td>4772_1</td>\n",
       "      <td>4772.0</td>\n",
       "      <td>1</td>\n",
       "      <td>204.0</td>\n",
       "      <td>27.0</td>\n",
       "      <td>0.116883</td>\n",
       "      <td>1</td>\n",
       "    </tr>\n",
       "    <tr>\n",
       "      <td>4</td>\n",
       "      <td>15456</td>\n",
       "      <td>4772_1</td>\n",
       "      <td>1</td>\n",
       "      <td>0</td>\n",
       "      <td>4772_1</td>\n",
       "      <td>4772.0</td>\n",
       "      <td>1</td>\n",
       "      <td>204.0</td>\n",
       "      <td>27.0</td>\n",
       "      <td>0.116883</td>\n",
       "      <td>1</td>\n",
       "    </tr>\n",
       "    <tr>\n",
       "      <td>...</td>\n",
       "      <td>...</td>\n",
       "      <td>...</td>\n",
       "      <td>...</td>\n",
       "      <td>...</td>\n",
       "      <td>...</td>\n",
       "      <td>...</td>\n",
       "      <td>...</td>\n",
       "      <td>...</td>\n",
       "      <td>...</td>\n",
       "      <td>...</td>\n",
       "      <td>...</td>\n",
       "    </tr>\n",
       "    <tr>\n",
       "      <td>21068124</td>\n",
       "      <td>217156</td>\n",
       "      <td>6255_35</td>\n",
       "      <td>0</td>\n",
       "      <td>1</td>\n",
       "      <td>6255_35</td>\n",
       "      <td>6255.0</td>\n",
       "      <td>35</td>\n",
       "      <td>421.0</td>\n",
       "      <td>1598.0</td>\n",
       "      <td>0.791481</td>\n",
       "      <td>4</td>\n",
       "    </tr>\n",
       "    <tr>\n",
       "      <td>21068125</td>\n",
       "      <td>217153</td>\n",
       "      <td>6255_36</td>\n",
       "      <td>0</td>\n",
       "      <td>1</td>\n",
       "      <td>6255_36</td>\n",
       "      <td>6255.0</td>\n",
       "      <td>36</td>\n",
       "      <td>1345.0</td>\n",
       "      <td>674.0</td>\n",
       "      <td>0.333829</td>\n",
       "      <td>2</td>\n",
       "    </tr>\n",
       "    <tr>\n",
       "      <td>21068126</td>\n",
       "      <td>217154</td>\n",
       "      <td>6255_36</td>\n",
       "      <td>0</td>\n",
       "      <td>1</td>\n",
       "      <td>6255_36</td>\n",
       "      <td>6255.0</td>\n",
       "      <td>36</td>\n",
       "      <td>1345.0</td>\n",
       "      <td>674.0</td>\n",
       "      <td>0.333829</td>\n",
       "      <td>2</td>\n",
       "    </tr>\n",
       "    <tr>\n",
       "      <td>21068127</td>\n",
       "      <td>217155</td>\n",
       "      <td>6255_36</td>\n",
       "      <td>0</td>\n",
       "      <td>1</td>\n",
       "      <td>6255_36</td>\n",
       "      <td>6255.0</td>\n",
       "      <td>36</td>\n",
       "      <td>1345.0</td>\n",
       "      <td>674.0</td>\n",
       "      <td>0.333829</td>\n",
       "      <td>2</td>\n",
       "    </tr>\n",
       "    <tr>\n",
       "      <td>21068128</td>\n",
       "      <td>217156</td>\n",
       "      <td>6255_36</td>\n",
       "      <td>0</td>\n",
       "      <td>1</td>\n",
       "      <td>6255_36</td>\n",
       "      <td>6255.0</td>\n",
       "      <td>36</td>\n",
       "      <td>1345.0</td>\n",
       "      <td>674.0</td>\n",
       "      <td>0.333829</td>\n",
       "      <td>2</td>\n",
       "    </tr>\n",
       "  </tbody>\n",
       "</table>\n",
       "<p>21068129 rows × 11 columns</p>\n",
       "</div>"
      ],
      "text/plain": [
       "            m_id   q_id_x  answered  failed      idx    t_id q_id_y  correct  \\\n",
       "0           6212   4772_1         1       0   4772_1  4772.0      1    204.0   \n",
       "1          18332   4772_1         1       0   4772_1  4772.0      1    204.0   \n",
       "2          18036   4772_1         1       0   4772_1  4772.0      1    204.0   \n",
       "3          22799   4772_1         1       0   4772_1  4772.0      1    204.0   \n",
       "4          15456   4772_1         1       0   4772_1  4772.0      1    204.0   \n",
       "...          ...      ...       ...     ...      ...     ...    ...      ...   \n",
       "21068124  217156  6255_35         0       1  6255_35  6255.0     35    421.0   \n",
       "21068125  217153  6255_36         0       1  6255_36  6255.0     36   1345.0   \n",
       "21068126  217154  6255_36         0       1  6255_36  6255.0     36   1345.0   \n",
       "21068127  217155  6255_36         0       1  6255_36  6255.0     36   1345.0   \n",
       "21068128  217156  6255_36         0       1  6255_36  6255.0     36   1345.0   \n",
       "\n",
       "           wrong  difficulty d_rank  \n",
       "0           27.0    0.116883      1  \n",
       "1           27.0    0.116883      1  \n",
       "2           27.0    0.116883      1  \n",
       "3           27.0    0.116883      1  \n",
       "4           27.0    0.116883      1  \n",
       "...          ...         ...    ...  \n",
       "21068124  1598.0    0.791481      4  \n",
       "21068125   674.0    0.333829      2  \n",
       "21068126   674.0    0.333829      2  \n",
       "21068127   674.0    0.333829      2  \n",
       "21068128   674.0    0.333829      2  \n",
       "\n",
       "[21068129 rows x 11 columns]"
      ]
     },
     "execution_count": 30,
     "metadata": {},
     "output_type": "execute_result"
    }
   ],
   "source": [
    "df_players_result_extended"
   ]
  },
  {
   "cell_type": "markdown",
   "metadata": {},
   "source": [
    "Строим для каждого игрока статистику по проценту и количеству взятых вопросов каждой категории"
   ]
  },
  {
   "cell_type": "code",
   "execution_count": 31,
   "metadata": {},
   "outputs": [],
   "source": [
    "df_stats = df_players_result_extended.groupby(['m_id', 'd_rank']).agg({'answered':'sum', 'failed':'sum'})\n",
    "df_stats['p_correct'] = df_stats['answered'] / (df_stats['answered'] + df_stats['failed'])\n",
    "df_stats['n_count'] = df_stats['answered'] + df_stats['failed']\n",
    "df_stats = df_stats[['n_count', 'p_correct']].unstack()\n",
    "\n",
    "df_stats['n_count'] = df_stats['n_count'].fillna(0)\n",
    "df_stats['p_correct'] = df_stats['p_correct'].fillna(df_stats['p_correct'].median())\n",
    "\n",
    "df_stats.columns = ['%s%s' % (a, '_%s' % b if b else '') for a, b in df_stats.columns]\n",
    "\n",
    "for i in range(1, 6):\n",
    "    min_n = df_stats[f'n_count_{i}'].min(axis=0)\n",
    "    max_n = df_stats[f'n_count_{i}'].max(axis=0)\n",
    "    \n",
    "    median_p = df_stats[f'p_correct_{i}'].quantile(.88)\n",
    "    median_n = df_stats[f'n_count_{i}'].median(axis=0)\n",
    "    \n",
    "    df_stats.loc[(df_stats[f'p_correct_{i}'] > median_p) & (df_stats[f'n_count_{i}'] < median_n), f'p_correct_{i}'] = df_stats[f'p_correct_{i}'].median(axis=0)\n",
    "\n",
    "    if i < 2:\n",
    "        df_stats.loc[(df_stats[f'p_correct_{i}'] > 0.977), f'p_correct_{i}'] = df_stats[f'p_correct_{i}'].median(axis=0)\n",
    "    else:\n",
    "        df_stats.loc[df_stats[f'n_count_{i}'] < 5 , f'p_correct_{i}'] = df_stats[f'p_correct_{i}'].median(axis=0)\n",
    "        df_stats.loc[(df_stats[f'p_correct_{i}'] > 0.977), f'p_correct_{i}'] = df_stats[f'p_correct_{i}'].median(axis=0)        \n",
    "    df_stats[f'n_count_{i}'] = (df_stats[f'n_count_{i}'] - min_n) / (max_n - min_n)"
   ]
  },
  {
   "cell_type": "code",
   "execution_count": 42,
   "metadata": {},
   "outputs": [],
   "source": [
    "df_players_result_vs_df = df_players_result_extended.drop(['failed', 'q_id_x', 't_id',\n",
    "                                                        'q_id_y', 'correct', 'wrong', 'd_rank', 'idЬx' ], axis=1).dropna()\n",
    "\n",
    "df_final = df_players_result_vs_df.merge(df_stats, how='left', left_on='m_id', right_on='m_id')\n",
    "df_final = df_final.sort_values(by=['m_id'])"
   ]
  },
  {
   "cell_type": "markdown",
   "metadata": {},
   "source": [
    "Получаем финальную таблицу для расчета рейтинга - к статистике игрока добавлена сложность вопроса"
   ]
  },
  {
   "cell_type": "code",
   "execution_count": 164,
   "metadata": {},
   "outputs": [
    {
     "data": {
      "text/html": [
       "<div>\n",
       "<style scoped>\n",
       "    .dataframe tbody tr th:only-of-type {\n",
       "        vertical-align: middle;\n",
       "    }\n",
       "\n",
       "    .dataframe tbody tr th {\n",
       "        vertical-align: top;\n",
       "    }\n",
       "\n",
       "    .dataframe thead th {\n",
       "        text-align: right;\n",
       "    }\n",
       "</style>\n",
       "<table border=\"1\" class=\"dataframe\">\n",
       "  <thead>\n",
       "    <tr style=\"text-align: right;\">\n",
       "      <th></th>\n",
       "      <th>m_id</th>\n",
       "      <th>answered</th>\n",
       "      <th>difficulty</th>\n",
       "      <th>n_count_1</th>\n",
       "      <th>n_count_2</th>\n",
       "      <th>n_count_3</th>\n",
       "      <th>n_count_4</th>\n",
       "      <th>n_count_5</th>\n",
       "      <th>p_correct_1</th>\n",
       "      <th>p_correct_2</th>\n",
       "      <th>p_correct_3</th>\n",
       "      <th>p_correct_4</th>\n",
       "      <th>p_correct_5</th>\n",
       "      <th>pred</th>\n",
       "      <th>q_qty</th>\n",
       "    </tr>\n",
       "  </thead>\n",
       "  <tbody>\n",
       "    <tr>\n",
       "      <td>10481087</td>\n",
       "      <td>15</td>\n",
       "      <td>0</td>\n",
       "      <td>0.672897</td>\n",
       "      <td>0.061187</td>\n",
       "      <td>0.063996</td>\n",
       "      <td>0.071604</td>\n",
       "      <td>0.061942</td>\n",
       "      <td>0.040757</td>\n",
       "      <td>0.717172</td>\n",
       "      <td>0.460432</td>\n",
       "      <td>0.30137</td>\n",
       "      <td>0.161017</td>\n",
       "      <td>0.053571</td>\n",
       "      <td>0</td>\n",
       "      <td>1</td>\n",
       "    </tr>\n",
       "    <tr>\n",
       "      <td>10480985</td>\n",
       "      <td>15</td>\n",
       "      <td>1</td>\n",
       "      <td>0.401869</td>\n",
       "      <td>0.061187</td>\n",
       "      <td>0.063996</td>\n",
       "      <td>0.071604</td>\n",
       "      <td>0.061942</td>\n",
       "      <td>0.040757</td>\n",
       "      <td>0.717172</td>\n",
       "      <td>0.460432</td>\n",
       "      <td>0.30137</td>\n",
       "      <td>0.161017</td>\n",
       "      <td>0.053571</td>\n",
       "      <td>1</td>\n",
       "      <td>1</td>\n",
       "    </tr>\n",
       "    <tr>\n",
       "      <td>10480979</td>\n",
       "      <td>15</td>\n",
       "      <td>0</td>\n",
       "      <td>0.514019</td>\n",
       "      <td>0.061187</td>\n",
       "      <td>0.063996</td>\n",
       "      <td>0.071604</td>\n",
       "      <td>0.061942</td>\n",
       "      <td>0.040757</td>\n",
       "      <td>0.717172</td>\n",
       "      <td>0.460432</td>\n",
       "      <td>0.30137</td>\n",
       "      <td>0.161017</td>\n",
       "      <td>0.053571</td>\n",
       "      <td>0</td>\n",
       "      <td>1</td>\n",
       "    </tr>\n",
       "    <tr>\n",
       "      <td>10480973</td>\n",
       "      <td>15</td>\n",
       "      <td>0</td>\n",
       "      <td>0.859813</td>\n",
       "      <td>0.061187</td>\n",
       "      <td>0.063996</td>\n",
       "      <td>0.071604</td>\n",
       "      <td>0.061942</td>\n",
       "      <td>0.040757</td>\n",
       "      <td>0.717172</td>\n",
       "      <td>0.460432</td>\n",
       "      <td>0.30137</td>\n",
       "      <td>0.161017</td>\n",
       "      <td>0.053571</td>\n",
       "      <td>0</td>\n",
       "      <td>1</td>\n",
       "    </tr>\n",
       "    <tr>\n",
       "      <td>10480967</td>\n",
       "      <td>15</td>\n",
       "      <td>0</td>\n",
       "      <td>0.598131</td>\n",
       "      <td>0.061187</td>\n",
       "      <td>0.063996</td>\n",
       "      <td>0.071604</td>\n",
       "      <td>0.061942</td>\n",
       "      <td>0.040757</td>\n",
       "      <td>0.717172</td>\n",
       "      <td>0.460432</td>\n",
       "      <td>0.30137</td>\n",
       "      <td>0.161017</td>\n",
       "      <td>0.053571</td>\n",
       "      <td>0</td>\n",
       "      <td>1</td>\n",
       "    </tr>\n",
       "  </tbody>\n",
       "</table>\n",
       "</div>"
      ],
      "text/plain": [
       "          m_id  answered  difficulty  n_count_1  n_count_2  n_count_3  \\\n",
       "10481087    15         0    0.672897   0.061187   0.063996   0.071604   \n",
       "10480985    15         1    0.401869   0.061187   0.063996   0.071604   \n",
       "10480979    15         0    0.514019   0.061187   0.063996   0.071604   \n",
       "10480973    15         0    0.859813   0.061187   0.063996   0.071604   \n",
       "10480967    15         0    0.598131   0.061187   0.063996   0.071604   \n",
       "\n",
       "          n_count_4  n_count_5  p_correct_1  p_correct_2  p_correct_3  \\\n",
       "10481087   0.061942   0.040757     0.717172     0.460432      0.30137   \n",
       "10480985   0.061942   0.040757     0.717172     0.460432      0.30137   \n",
       "10480979   0.061942   0.040757     0.717172     0.460432      0.30137   \n",
       "10480973   0.061942   0.040757     0.717172     0.460432      0.30137   \n",
       "10480967   0.061942   0.040757     0.717172     0.460432      0.30137   \n",
       "\n",
       "          p_correct_4  p_correct_5  pred  q_qty  \n",
       "10481087     0.161017     0.053571     0      1  \n",
       "10480985     0.161017     0.053571     1      1  \n",
       "10480979     0.161017     0.053571     0      1  \n",
       "10480973     0.161017     0.053571     0      1  \n",
       "10480967     0.161017     0.053571     0      1  "
      ]
     },
     "execution_count": 164,
     "metadata": {},
     "output_type": "execute_result"
    }
   ],
   "source": [
    "df_final.head()"
   ]
  },
  {
   "cell_type": "code",
   "execution_count": 48,
   "metadata": {},
   "outputs": [],
   "source": [
    "y_train = df_final['answered']\n",
    "X_train = df_final.drop(['m_id', 'answered'], axis=1).to_numpy()"
   ]
  },
  {
   "cell_type": "code",
   "execution_count": 49,
   "metadata": {},
   "outputs": [
    {
     "name": "stderr",
     "output_type": "stream",
     "text": [
      "D:\\Continuum\\lib\\site-packages\\sklearn\\linear_model\\logistic.py:432: FutureWarning: Default solver will be changed to 'lbfgs' in 0.22. Specify a solver to silence this warning.\n",
      "  FutureWarning)\n"
     ]
    },
    {
     "name": "stdout",
     "output_type": "stream",
     "text": [
      "Accuracy: 0.7515666973410126\n"
     ]
    }
   ],
   "source": [
    "model = LogisticRegression()\n",
    "model.fit(X_train, y_train)\n",
    "pred = model.predict(X_train)\n",
    "print(f'Accuracy: {np.sum(pred == y_train) / len(y_train)}')"
   ]
  },
  {
   "cell_type": "code",
   "execution_count": 50,
   "metadata": {},
   "outputs": [],
   "source": [
    "df_final['pred'] = pred\n",
    "df_final['q_qty'] = 1"
   ]
  },
  {
   "cell_type": "markdown",
   "metadata": {},
   "source": [
    "Для составления рейтинга сэмплируем вопросы из выборки и считаем количество правильных ответов"
   ]
  },
  {
   "cell_type": "code",
   "execution_count": 57,
   "metadata": {},
   "outputs": [
    {
     "name": "stderr",
     "output_type": "stream",
     "text": [
      "100%|██████████| 59271/59271 [02:03<00:00, 479.79it/s]\n"
     ]
    }
   ],
   "source": [
    "df_question_sample = df_questions.sample(15000).copy()['difficulty']\n",
    "df_players_q_total = df_final.groupby(['m_id']).agg({'q_qty':'sum'})\n",
    "rating = []\n",
    "for m_id in tqdm.tqdm(df_players_q_total.index):\n",
    "    df_final_sample = df_stats.loc[m_id]\n",
    "    sample_data = np.hstack([df_question_sample.to_numpy().reshape(-1,1), np.tile(df_final_sample.to_numpy(),(15000,1))])\n",
    "    pred_rating = model.predict(sample_data).sum()\n",
    "    rating.append({'id':m_id, 'rating':pred_rating})"
   ]
  },
  {
   "cell_type": "markdown",
   "metadata": {},
   "source": [
    "Распределение сложности вопросов в сэмпле"
   ]
  },
  {
   "cell_type": "code",
   "execution_count": 165,
   "metadata": {},
   "outputs": [
    {
     "data": {
      "text/plain": [
       "<matplotlib.axes._subplots.AxesSubplot at 0x1ced8590948>"
      ]
     },
     "execution_count": 165,
     "metadata": {},
     "output_type": "execute_result"
    },
    {
     "data": {
      "image/png": "[encoded data removed]",
      "text/plain": [
       "<Figure size 432x288 with 1 Axes>"
      ]
     },
     "metadata": {
      "needs_background": "light"
     },
     "output_type": "display_data"
    }
   ],
   "source": [
    "df_question_sample.hist()"
   ]
  },
  {
   "cell_type": "markdown",
   "metadata": {},
   "source": [
    "Распределение рассчитанного рейтинга игроков"
   ]
  },
  {
   "cell_type": "code",
   "execution_count": 60,
   "metadata": {},
   "outputs": [
    {
     "data": {
      "text/plain": [
       "<matplotlib.axes._subplots.AxesSubplot at 0x1cccb4ff7c8>"
      ]
     },
     "execution_count": 60,
     "metadata": {},
     "output_type": "execute_result"
    },
    {
     "data": {
      "image/png": "[encoded data removed]",
      "text/plain": [
       "<Figure size 432x288 with 1 Axes>"
      ]
     },
     "metadata": {
      "needs_background": "light"
     },
     "output_type": "display_data"
    }
   ],
   "source": [
    "players_rating.rating.hist(bins=30)"
   ]
  },
  {
   "cell_type": "code",
   "execution_count": null,
   "metadata": {},
   "outputs": [],
   "source": [
    "players_names = pd.DataFrame([v for k, v in players.items()])\n",
    "players_names.index = players_names.id\n",
    "players_names.drop('id', axis=1, inplace=True)\n",
    "\n",
    "players_rating.index = players_rating.id\n",
    "players_rating.drop('id', axis=1, inplace=True)\n",
    "\n",
    "players_rating = pd.merge(players_rating, players_names, how='left', left_index=True, right_index=True)"
   ]
  },
  {
   "cell_type": "markdown",
   "metadata": {},
   "source": [
    "Топ-20 лист-рейтинга расчитанного моделью"
   ]
  },
  {
   "cell_type": "code",
   "execution_count": 167,
   "metadata": {},
   "outputs": [
    {
     "data": {
      "text/html": [
       "<div>\n",
       "<style scoped>\n",
       "    .dataframe tbody tr th:only-of-type {\n",
       "        vertical-align: middle;\n",
       "    }\n",
       "\n",
       "    .dataframe tbody tr th {\n",
       "        vertical-align: top;\n",
       "    }\n",
       "\n",
       "    .dataframe thead th {\n",
       "        text-align: right;\n",
       "    }\n",
       "</style>\n",
       "<table border=\"1\" class=\"dataframe\">\n",
       "  <thead>\n",
       "    <tr style=\"text-align: right;\">\n",
       "      <th></th>\n",
       "      <th>rating</th>\n",
       "      <th>name</th>\n",
       "      <th>patronymic</th>\n",
       "      <th>surname</th>\n",
       "    </tr>\n",
       "    <tr>\n",
       "      <th>id</th>\n",
       "      <th></th>\n",
       "      <th></th>\n",
       "      <th></th>\n",
       "      <th></th>\n",
       "    </tr>\n",
       "  </thead>\n",
       "  <tbody>\n",
       "    <tr>\n",
       "      <td>4270</td>\n",
       "      <td>12773</td>\n",
       "      <td>Александра</td>\n",
       "      <td>Владимировна</td>\n",
       "      <td>Брутер</td>\n",
       "    </tr>\n",
       "    <tr>\n",
       "      <td>28751</td>\n",
       "      <td>12684</td>\n",
       "      <td>Иван</td>\n",
       "      <td>Николаевич</td>\n",
       "      <td>Семушин</td>\n",
       "    </tr>\n",
       "    <tr>\n",
       "      <td>197536</td>\n",
       "      <td>12525</td>\n",
       "      <td>Елизавета</td>\n",
       "      <td>Алексеевна</td>\n",
       "      <td>Рахманова</td>\n",
       "    </tr>\n",
       "    <tr>\n",
       "      <td>197538</td>\n",
       "      <td>12525</td>\n",
       "      <td>Анастасия</td>\n",
       "      <td>Евгеньевна</td>\n",
       "      <td>Васильева</td>\n",
       "    </tr>\n",
       "    <tr>\n",
       "      <td>197539</td>\n",
       "      <td>12525</td>\n",
       "      <td>Никита</td>\n",
       "      <td>Станиславович</td>\n",
       "      <td>Бабич</td>\n",
       "    </tr>\n",
       "    <tr>\n",
       "      <td>197535</td>\n",
       "      <td>12525</td>\n",
       "      <td>Тимофей</td>\n",
       "      <td>Геннадиевич</td>\n",
       "      <td>Дедов</td>\n",
       "    </tr>\n",
       "    <tr>\n",
       "      <td>197537</td>\n",
       "      <td>12525</td>\n",
       "      <td>Константин</td>\n",
       "      <td>Романович</td>\n",
       "      <td>Фонов</td>\n",
       "    </tr>\n",
       "    <tr>\n",
       "      <td>197534</td>\n",
       "      <td>12525</td>\n",
       "      <td>Полина</td>\n",
       "      <td>Сергеевна</td>\n",
       "      <td>Колычева</td>\n",
       "    </tr>\n",
       "    <tr>\n",
       "      <td>27822</td>\n",
       "      <td>12343</td>\n",
       "      <td>Михаил</td>\n",
       "      <td>Владимирович</td>\n",
       "      <td>Савченков</td>\n",
       "    </tr>\n",
       "    <tr>\n",
       "      <td>218271</td>\n",
       "      <td>12319</td>\n",
       "      <td>Алексей</td>\n",
       "      <td>Валерьевич</td>\n",
       "      <td>Антонов</td>\n",
       "    </tr>\n",
       "    <tr>\n",
       "      <td>135972</td>\n",
       "      <td>12286</td>\n",
       "      <td>Максим</td>\n",
       "      <td>Алексеевич</td>\n",
       "      <td>Богословский</td>\n",
       "    </tr>\n",
       "    <tr>\n",
       "      <td>27403</td>\n",
       "      <td>12281</td>\n",
       "      <td>Максим</td>\n",
       "      <td>Михайлович</td>\n",
       "      <td>Руссо</td>\n",
       "    </tr>\n",
       "    <tr>\n",
       "      <td>30152</td>\n",
       "      <td>12215</td>\n",
       "      <td>Артём</td>\n",
       "      <td>Сергеевич</td>\n",
       "      <td>Сорожкин</td>\n",
       "    </tr>\n",
       "    <tr>\n",
       "      <td>30270</td>\n",
       "      <td>12158</td>\n",
       "      <td>Сергей</td>\n",
       "      <td>Леонидович</td>\n",
       "      <td>Спешков</td>\n",
       "    </tr>\n",
       "    <tr>\n",
       "      <td>4226</td>\n",
       "      <td>12116</td>\n",
       "      <td>Сусанна</td>\n",
       "      <td>Марковна</td>\n",
       "      <td>Бровер</td>\n",
       "    </tr>\n",
       "    <tr>\n",
       "      <td>210650</td>\n",
       "      <td>12002</td>\n",
       "      <td>Никита</td>\n",
       "      <td>Владимирович</td>\n",
       "      <td>Романов</td>\n",
       "    </tr>\n",
       "    <tr>\n",
       "      <td>207554</td>\n",
       "      <td>11999</td>\n",
       "      <td>Артём</td>\n",
       "      <td>Владимирович</td>\n",
       "      <td>Софьин</td>\n",
       "    </tr>\n",
       "    <tr>\n",
       "      <td>207553</td>\n",
       "      <td>11999</td>\n",
       "      <td>Карина</td>\n",
       "      <td>Ришатовна</td>\n",
       "      <td>Фазылханова</td>\n",
       "    </tr>\n",
       "    <tr>\n",
       "      <td>207552</td>\n",
       "      <td>11999</td>\n",
       "      <td>Жанна</td>\n",
       "      <td>Ивановна</td>\n",
       "      <td>Пичкалёва</td>\n",
       "    </tr>\n",
       "    <tr>\n",
       "      <td>207551</td>\n",
       "      <td>11999</td>\n",
       "      <td>Ярослава</td>\n",
       "      <td>Николаевна</td>\n",
       "      <td>Семёнова</td>\n",
       "    </tr>\n",
       "  </tbody>\n",
       "</table>\n",
       "</div>"
      ],
      "text/plain": [
       "        rating        name     patronymic       surname\n",
       "id                                                     \n",
       "4270     12773  Александра   Владимировна        Брутер\n",
       "28751    12684        Иван     Николаевич       Семушин\n",
       "197536   12525   Елизавета     Алексеевна     Рахманова\n",
       "197538   12525   Анастасия     Евгеньевна     Васильева\n",
       "197539   12525      Никита  Станиславович         Бабич\n",
       "197535   12525     Тимофей    Геннадиевич         Дедов\n",
       "197537   12525  Константин      Романович         Фонов\n",
       "197534   12525      Полина      Сергеевна      Колычева\n",
       "27822    12343      Михаил   Владимирович     Савченков\n",
       "218271   12319     Алексей     Валерьевич       Антонов\n",
       "135972   12286      Максим     Алексеевич  Богословский\n",
       "27403    12281      Максим     Михайлович         Руссо\n",
       "30152    12215       Артём      Сергеевич      Сорожкин\n",
       "30270    12158      Сергей     Леонидович       Спешков\n",
       "4226     12116     Сусанна       Марковна        Бровер\n",
       "210650   12002      Никита   Владимирович       Романов\n",
       "207554   11999       Артём   Владимирович        Софьин\n",
       "207553   11999      Карина      Ришатовна   Фазылханова\n",
       "207552   11999       Жанна       Ивановна     Пичкалёва\n",
       "207551   11999    Ярослава     Николаевна      Семёнова"
      ]
     },
     "execution_count": 167,
     "metadata": {},
     "output_type": "execute_result"
    }
   ],
   "source": [
    "players_rating.head(20)"
   ]
  },
  {
   "cell_type": "markdown",
   "metadata": {},
   "source": [
    "### Задание 3. Оценка качества предсказаний результато турниров"
   ]
  },
  {
   "cell_type": "markdown",
   "metadata": {},
   "source": [
    "Оценим рейтинг команды по рейтингу входящих в неё игроков для турниров из выборки test"
   ]
  },
  {
   "cell_type": "code",
   "execution_count": 68,
   "metadata": {},
   "outputs": [
    {
     "name": "stderr",
     "output_type": "stream",
     "text": [
      "D:\\Continuum\\lib\\site-packages\\numpy\\lib\\function_base.py:2530: RuntimeWarning: invalid value encountered in true_divide\n",
      "  c /= stddev[:, None]\n",
      "D:\\Continuum\\lib\\site-packages\\numpy\\lib\\function_base.py:2531: RuntimeWarning: invalid value encountered in true_divide\n",
      "  c /= stddev[None, :]\n",
      "D:\\Continuum\\lib\\site-packages\\scipy\\stats\\_distn_infrastructure.py:901: RuntimeWarning: invalid value encountered in greater\n",
      "  return (a < x) & (x < b)\n",
      "D:\\Continuum\\lib\\site-packages\\scipy\\stats\\_distn_infrastructure.py:901: RuntimeWarning: invalid value encountered in less\n",
      "  return (a < x) & (x < b)\n",
      "D:\\Continuum\\lib\\site-packages\\scipy\\stats\\_distn_infrastructure.py:1892: RuntimeWarning: invalid value encountered in less_equal\n",
      "  cond2 = cond0 & (x <= _a)\n"
     ]
    }
   ],
   "source": [
    "team_results = []\n",
    "spearman_corr = []\n",
    "kendall_corr = []\n",
    "\n",
    "for t_id in df_tournaments_test.index:  \n",
    "    predicted_pos = []\n",
    "    real_pos = []\n",
    "\n",
    "    for team in results[t_id]:\n",
    "        if team.get('teamMembers') is None or team.get('position') is None:\n",
    "            continue\n",
    "\n",
    "        real_res = team['position']               \n",
    "        predicted_res = 0        \n",
    "        \n",
    "        team_size = len(team['teamMembers'])\n",
    "        for member in team['teamMembers']:           \n",
    "            if member['player']['id'] not in players_rating.index:\n",
    "                team_size -= 1\n",
    "            else:\n",
    "                predicted_res += players_rating.loc[member['player']['id']].rating\n",
    "      \n",
    "        if team_size > 0:\n",
    "            team_results.append({'t_id': t_id, 'real_rating': real_res, 'pred': predicted_res})\n",
    "            real_pos.append(-real_res)\n",
    "            predicted_pos.append(predicted_res / len(team['teamMembers']))\n",
    "    s_corr = spearmanr(real_pos, predicted_pos)[0]\n",
    "    k_corr = kendalltau(real_pos, predicted_pos)[0]\n",
    "    \n",
    "    if np.isnan(s_corr) or np.isnan(k_corr):\n",
    "        continue\n",
    "    \n",
    "    spearman_corr.append(s_corr)\n",
    "    kendall_corr.append(k_corr)"
   ]
  },
  {
   "cell_type": "code",
   "execution_count": 69,
   "metadata": {},
   "outputs": [
    {
     "name": "stdout",
     "output_type": "stream",
     "text": [
      "Корреляция Спирмена: 0.7095099953752463\n",
      "Корреляция Кендалла: 0.5549987284602221\n"
     ]
    }
   ],
   "source": [
    "print(f'Корреляция Спирмена: {np.mean(spearman_corr)}')\n",
    "print(f'Корреляция Кендалла: {np.mean(kendall_corr)}')"
   ]
  },
  {
   "cell_type": "markdown",
   "metadata": {},
   "source": [
    "Корреляции попали в ожидаемые интервалы"
   ]
  },
  {
   "cell_type": "markdown",
   "metadata": {},
   "source": [
    "### Задание 4. EM-алгоритм"
   ]
  },
  {
   "cell_type": "markdown",
   "metadata": {},
   "source": [
    "Для простроения EM-модели забудем всё, что мы делали, и обучим новую модель, которая будет предсказывать ответил ли игрок (m_id) на вопрос (q_id) используя OHE. Для оценки качества будем предполагать, что команда ответила на вопрос если хотя бы один человек из команды ответил на него."
   ]
  },
  {
   "cell_type": "code",
   "execution_count": 138,
   "metadata": {},
   "outputs": [
    {
     "data": {
      "text/plain": [
       "(10, 92716)"
      ]
     },
     "execution_count": 138,
     "metadata": {},
     "output_type": "execute_result"
    }
   ],
   "source": [
    "A = encoder.transform(df_players_result[[\"m_id\", \"q_id\"]][:10])\n",
    "A.toarray().shape"
   ]
  },
  {
   "cell_type": "code",
   "execution_count": 137,
   "metadata": {},
   "outputs": [
    {
     "name": "stderr",
     "output_type": "stream",
     "text": [
      "D:\\Continuum\\lib\\site-packages\\sklearn\\preprocessing\\_encoders.py:415: FutureWarning: The handling of integer data will change in version 0.22. Currently, the categories are determined based on the range [0, max(values)], while in the future they will be determined based on the unique values.\n",
      "If you want the future behaviour and silence this warning, you can specify \"categories='auto'\".\n",
      "In case you used a LabelEncoder before this OneHotEncoder to convert the categories to integers, then you can now use the OneHotEncoder directly.\n",
      "  warnings.warn(msg, FutureWarning)\n"
     ]
    }
   ],
   "source": [
    "encoder = OneHotEncoder()\n",
    "encoder.fit(df_players_result[[\"m_id\", \"q_id\"]])\n",
    "X_train = encoder.transform(df_players_result[[\"m_id\", \"q_id\"]])\n",
    "y_train = df_players_result['answered']"
   ]
  },
  {
   "cell_type": "code",
   "execution_count": 153,
   "metadata": {},
   "outputs": [
    {
     "name": "stderr",
     "output_type": "stream",
     "text": [
      "[Parallel(n_jobs=1)]: Using backend SequentialBackend with 1 concurrent workers.\n"
     ]
    },
    {
     "name": "stdout",
     "output_type": "stream",
     "text": [
      "convergence after 25 epochs took 412 seconds\n"
     ]
    },
    {
     "name": "stderr",
     "output_type": "stream",
     "text": [
      "[Parallel(n_jobs=1)]: Done   1 out of   1 | elapsed:  6.9min finished\n"
     ]
    },
    {
     "name": "stdout",
     "output_type": "stream",
     "text": [
      "Accuracy: 0.7635366671620437\n",
      "Wall time: 6min 53s\n"
     ]
    }
   ],
   "source": [
    "%%time\n",
    "\n",
    "model_base = LogisticRegression(verbose=1, solver='saga')\n",
    "model_base.fit(X_train, y_train)\n",
    "pred = model.predict(X_train)\n",
    "print(f'Accuracy: {np.sum(pred == y_train)/len(pred)}')"
   ]
  },
  {
   "cell_type": "code",
   "execution_count": 154,
   "metadata": {},
   "outputs": [
    {
     "name": "stdout",
     "output_type": "stream",
     "text": [
      "Accuracy: 0.7635367146271034\n"
     ]
    }
   ],
   "source": [
    "print(f'Accuracy: {np.sum(pred2 == y_train)/len(pred)}')"
   ]
  },
  {
   "cell_type": "code",
   "execution_count": 155,
   "metadata": {},
   "outputs": [
    {
     "name": "stderr",
     "output_type": "stream",
     "text": [
      "D:\\Continuum\\lib\\site-packages\\numpy\\lib\\function_base.py:2530: RuntimeWarning: invalid value encountered in true_divide\n",
      "  c /= stddev[:, None]\n",
      "D:\\Continuum\\lib\\site-packages\\numpy\\lib\\function_base.py:2531: RuntimeWarning: invalid value encountered in true_divide\n",
      "  c /= stddev[None, :]\n",
      "D:\\Continuum\\lib\\site-packages\\scipy\\stats\\_distn_infrastructure.py:901: RuntimeWarning: invalid value encountered in greater\n",
      "  return (a < x) & (x < b)\n",
      "D:\\Continuum\\lib\\site-packages\\scipy\\stats\\_distn_infrastructure.py:901: RuntimeWarning: invalid value encountered in less\n",
      "  return (a < x) & (x < b)\n",
      "D:\\Continuum\\lib\\site-packages\\scipy\\stats\\_distn_infrastructure.py:1892: RuntimeWarning: invalid value encountered in less_equal\n",
      "  cond2 = cond0 & (x <= _a)\n",
      "D:\\Continuum\\lib\\site-packages\\numpy\\lib\\function_base.py:2530: RuntimeWarning: invalid value encountered in true_divide\n",
      "  c /= stddev[:, None]\n",
      "D:\\Continuum\\lib\\site-packages\\numpy\\lib\\function_base.py:2531: RuntimeWarning: invalid value encountered in true_divide\n",
      "  c /= stddev[None, :]\n",
      "D:\\Continuum\\lib\\site-packages\\scipy\\stats\\_distn_infrastructure.py:901: RuntimeWarning: invalid value encountered in greater\n",
      "  return (a < x) & (x < b)\n",
      "D:\\Continuum\\lib\\site-packages\\scipy\\stats\\_distn_infrastructure.py:901: RuntimeWarning: invalid value encountered in less\n",
      "  return (a < x) & (x < b)\n",
      "D:\\Continuum\\lib\\site-packages\\scipy\\stats\\_distn_infrastructure.py:1892: RuntimeWarning: invalid value encountered in less_equal\n",
      "  cond2 = cond0 & (x <= _a)\n"
     ]
    }
   ],
   "source": [
    "team_results = []\n",
    "spearman_corr = []\n",
    "kendall_corr = []\n",
    "\n",
    "for t_id in df_tournaments_test.index:  \n",
    "    predicted_pos = []\n",
    "    real_pos = []\n",
    "\n",
    "    for team in results[t_id]:\n",
    "        if team.get('teamMembers') is None or team.get('position') is None:\n",
    "            continue\n",
    "        real_res = team['position']               \n",
    "        predicted_res = 0        \n",
    "        \n",
    "        team_size = len(team['teamMembers'])\n",
    "        cur_team = []\n",
    "        for member in team['teamMembers']:           \n",
    "            if member['player']['id'] not in players_rating.index:\n",
    "                team_size -= 1\n",
    "            else:\n",
    "                cur_team.append({'m_id': member['player']['id'], 'q_id': f'{t_id}_1'})\n",
    "        if team_size > 0:            \n",
    "            X_team = encoder.transform(pd.DataFrame(cur_team))\n",
    "            team_predict = model_base.predict_proba(X_team)[:, 1]\n",
    "            predicted_res = 1 - np.prod(1 - team_predict)\n",
    "            team_results.append({'t_id': t_id, 'real_rating': real_res, 'pred': predicted_res})\n",
    "            real_pos.append(-real_res)\n",
    "            predicted_pos.append(predicted_res)\n",
    "                  \n",
    "    s_corr = spearmanr(real_pos, predicted_pos)[0]\n",
    "    k_corr = kendalltau(real_pos, predicted_pos)[0]\n",
    "    \n",
    "    if np.isnan(s_corr) or np.isnan(k_corr):\n",
    "        continue\n",
    "    \n",
    "    spearman_corr.append(s_corr)\n",
    "    kendall_corr.append(k_corr)"
   ]
  },
  {
   "cell_type": "code",
   "execution_count": 156,
   "metadata": {},
   "outputs": [
    {
     "name": "stdout",
     "output_type": "stream",
     "text": [
      "Корреляция Спирмена: 0.8065093363200029\n",
      "Корреляция Кендалла: 0.6489561643700283\n"
     ]
    }
   ],
   "source": [
    "print(f'Корреляция Спирмена: {np.mean(spearman_corr)}')\n",
    "print(f'Корреляция Кендалла: {np.mean(kendall_corr)}')"
   ]
  },
  {
   "cell_type": "markdown",
   "metadata": {},
   "source": [
    "Результаты получились лучше, чем baseline с рассчитанной сложностью вопросов, а самое обидное, что не только лучше, но и намного быстрее.\n",
    "\n",
    "К сожалению, EM-алгоритм довести до ума не получилось"
   ]
  },
  {
   "cell_type": "markdown",
   "metadata": {},
   "source": [
    "### Задание 5. А что с вопросами?"
   ]
  },
  {
   "cell_type": "markdown",
   "metadata": {},
   "source": [
    "Воспользуемся знаниями, полученными на шаге 2 (ура, всё было не зря!). Рейтинг лист пакетов получился"
   ]
  },
  {
   "cell_type": "code",
   "execution_count": 222,
   "metadata": {
    "scrolled": true
   },
   "outputs": [
    {
     "data": {
      "text/html": [
       "<div>\n",
       "<style scoped>\n",
       "    .dataframe tbody tr th:only-of-type {\n",
       "        vertical-align: middle;\n",
       "    }\n",
       "\n",
       "    .dataframe tbody tr th {\n",
       "        vertical-align: top;\n",
       "    }\n",
       "\n",
       "    .dataframe thead th {\n",
       "        text-align: right;\n",
       "    }\n",
       "</style>\n",
       "<table border=\"1\" class=\"dataframe\">\n",
       "  <thead>\n",
       "    <tr style=\"text-align: right;\">\n",
       "      <th></th>\n",
       "      <th>t_id</th>\n",
       "      <th>name</th>\n",
       "      <th>difficulty</th>\n",
       "    </tr>\n",
       "  </thead>\n",
       "  <tbody>\n",
       "    <tr>\n",
       "      <td>637</td>\n",
       "      <td>6090</td>\n",
       "      <td>Дзержинский марафон</td>\n",
       "      <td>215.600000</td>\n",
       "    </tr>\n",
       "    <tr>\n",
       "      <td>469</td>\n",
       "      <td>5827</td>\n",
       "      <td>Шестой киевский марафон. Асинхрон</td>\n",
       "      <td>185.250000</td>\n",
       "    </tr>\n",
       "    <tr>\n",
       "      <td>665</td>\n",
       "      <td>6149</td>\n",
       "      <td>Чемпионат Санкт-Петербурга. Первая лига</td>\n",
       "      <td>180.000000</td>\n",
       "    </tr>\n",
       "    <tr>\n",
       "      <td>123</td>\n",
       "      <td>5405</td>\n",
       "      <td>Кавалькада волхвов</td>\n",
       "      <td>179.800000</td>\n",
       "    </tr>\n",
       "    <tr>\n",
       "      <td>632</td>\n",
       "      <td>6085</td>\n",
       "      <td>Серия Гран-при. Общий зачёт</td>\n",
       "      <td>162.949097</td>\n",
       "    </tr>\n",
       "  </tbody>\n",
       "</table>\n",
       "</div>"
      ],
      "text/plain": [
       "     t_id                                     name  difficulty\n",
       "637  6090                      Дзержинский марафон  215.600000\n",
       "469  5827        Шестой киевский марафон. Асинхрон  185.250000\n",
       "665  6149  Чемпионат Санкт-Петербурга. Первая лига  180.000000\n",
       "123  5405                       Кавалькада волхвов  179.800000\n",
       "632  6085              Серия Гран-при. Общий зачёт  162.949097"
      ]
     },
     "execution_count": 222,
     "metadata": {},
     "output_type": "execute_result"
    }
   ],
   "source": [
    "df_tournaments_rating = df_questions.groupby(['t_id']).agg({'difficulty':'sum', 'correct':'sum', 'wrong':'sum' })\n",
    "df_top = df_tournaments_rating.merge(df_tournaments, how='left', left_on='t_id', right_on='t_id').sort_values(by=['difficulty'], ascending=False)\n",
    "df_top[['t_id', 'name', 'difficulty']].head(5)"
   ]
  },
  {
   "cell_type": "code",
   "execution_count": 223,
   "metadata": {},
   "outputs": [
    {
     "data": {
      "text/html": [
       "<div>\n",
       "<style scoped>\n",
       "    .dataframe tbody tr th:only-of-type {\n",
       "        vertical-align: middle;\n",
       "    }\n",
       "\n",
       "    .dataframe tbody tr th {\n",
       "        vertical-align: top;\n",
       "    }\n",
       "\n",
       "    .dataframe thead th {\n",
       "        text-align: right;\n",
       "    }\n",
       "</style>\n",
       "<table border=\"1\" class=\"dataframe\">\n",
       "  <thead>\n",
       "    <tr style=\"text-align: right;\">\n",
       "      <th></th>\n",
       "      <th>t_id</th>\n",
       "      <th>name</th>\n",
       "      <th>difficulty</th>\n",
       "    </tr>\n",
       "  </thead>\n",
       "  <tbody>\n",
       "    <tr>\n",
       "      <td>398</td>\n",
       "      <td>5726</td>\n",
       "      <td>Первый турнир имени Джоуи Триббиани</td>\n",
       "      <td>11.387097</td>\n",
       "    </tr>\n",
       "    <tr>\n",
       "      <td>547</td>\n",
       "      <td>5935</td>\n",
       "      <td>Асинхрон по «Королю и Шуту»</td>\n",
       "      <td>10.552632</td>\n",
       "    </tr>\n",
       "    <tr>\n",
       "      <td>570</td>\n",
       "      <td>5963</td>\n",
       "      <td>Асинхрон по South Park</td>\n",
       "      <td>9.333333</td>\n",
       "    </tr>\n",
       "    <tr>\n",
       "      <td>600</td>\n",
       "      <td>6003</td>\n",
       "      <td>Второй тематический турнир имени Джоуи Триббиани</td>\n",
       "      <td>9.148148</td>\n",
       "    </tr>\n",
       "    <tr>\n",
       "      <td>154</td>\n",
       "      <td>5438</td>\n",
       "      <td>Синхрон Лиги Разума</td>\n",
       "      <td>6.789474</td>\n",
       "    </tr>\n",
       "  </tbody>\n",
       "</table>\n",
       "</div>"
      ],
      "text/plain": [
       "     t_id                                              name  difficulty\n",
       "398  5726               Первый турнир имени Джоуи Триббиани   11.387097\n",
       "547  5935                       Асинхрон по «Королю и Шуту»   10.552632\n",
       "570  5963                            Асинхрон по South Park    9.333333\n",
       "600  6003  Второй тематический турнир имени Джоуи Триббиани    9.148148\n",
       "154  5438                               Синхрон Лиги Разума    6.789474"
      ]
     },
     "execution_count": 223,
     "metadata": {},
     "output_type": "execute_result"
    }
   ],
   "source": [
    "df_tournaments_rating = df_questions.groupby(['t_id']).agg({'difficulty':'sum', 'correct':'sum', 'wrong':'sum' })  \n",
    "df_top = df_tournaments_rating.merge(df_tournaments, how='left', left_on='t_id', right_on='t_id').sort_values(by=['difficulty'], ascending=False)\n",
    "df_top[['t_id', 'name', 'difficulty']].tail(5)"
   ]
  },
  {
   "cell_type": "code",
   "execution_count": null,
   "metadata": {},
   "outputs": [],
   "source": []
  }
 ],
 "metadata": {
  "kernelspec": {
   "display_name": "Python 3",
   "language": "python",
   "name": "python3"
  },
  "language_info": {
   "codemirror_mode": {
    "name": "ipython",
    "version": 3
   },
   "file_extension": ".py",
   "mimetype": "text/x-python",
   "name": "python",
   "nbconvert_exporter": "python",
   "pygments_lexer": "ipython3",
   "version": "3.7.6"
  }
 },
 "nbformat": 4,
 "nbformat_minor": 5
}
