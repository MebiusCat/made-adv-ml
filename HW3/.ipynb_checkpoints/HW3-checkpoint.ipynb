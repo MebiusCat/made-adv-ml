{
 "cells": [
  {
   "cell_type": "code",
   "execution_count": 407,
   "metadata": {},
   "outputs": [],
   "source": [
    "import numpy as np\n",
    "import random\n",
    "\n",
    "from collections import Counter"
   ]
  },
  {
   "cell_type": "code",
   "execution_count": 408,
   "metadata": {},
   "outputs": [],
   "source": [
    "with open('AnnaKarenina.txt', 'r', encoding='utf-8') as f:\n",
    "    partAnna = f.read()\n",
    "    \n",
    "with open('WarAndPeace.txt', 'r', encoding='utf-8') as f:\n",
    "    partPeace = f.read()   \n",
    "    \n",
    "alphabet = 'абвгдеёжзиклмнопрстуфхцчшщъыьэюя '    "
   ]
  },
  {
   "cell_type": "code",
   "execution_count": 409,
   "metadata": {},
   "outputs": [],
   "source": [
    "def clear_text(text):\n",
    "    return ''.join([x for x in text.lower() if x in alphabet])\n",
    "\n",
    "def build_frequency_base(text):\n",
    "    frequency_base = Counter(text)\n",
    "    return frequency_base"
   ]
  },
  {
   "cell_type": "code",
   "execution_count": 410,
   "metadata": {},
   "outputs": [],
   "source": [
    "dict_ = build_frequency_base(clear_text(partAnna + partPeace))"
   ]
  },
  {
   "cell_type": "code",
   "execution_count": 411,
   "metadata": {},
   "outputs": [],
   "source": [
    "test_text = 'Боялся, что на этот раз наконец найдет Синюю Бутылку, что поиски закончатся и из его жизни уйдет смысл. \\\n",
    "Лишь после того, как десять лет назад он всю дорогу от Венеры к Юпитеру слушал рассказы одержимых страстью к путешествиям \\\n",
    "о Синей Бутылке, в жизни у него появилась цель. Лихорадка зажгла его, и с той поры он пылал.'"
   ]
  },
  {
   "cell_type": "code",
   "execution_count": 412,
   "metadata": {},
   "outputs": [],
   "source": [
    "test_text = clear_text(test_text)"
   ]
  },
  {
   "cell_type": "markdown",
   "metadata": {},
   "source": [
    "### Задание 1: Базовый частотный метод по Шерлоку Холмсу"
   ]
  },
  {
   "cell_type": "code",
   "execution_count": 413,
   "metadata": {},
   "outputs": [],
   "source": [
    "def random_encoding(text):\n",
    "    encode_alphabet = {}\n",
    "    list_ = list(alphabet)\n",
    "    random.shuffle(list_)\n",
    "    encode_alphabet = {alphabet[i]: ch for i, ch in enumerate(list_)}\n",
    "    return ''.join([encode_alphabet[ch] for ch in text])       "
   ]
  },
  {
   "cell_type": "code",
   "execution_count": 414,
   "metadata": {},
   "outputs": [],
   "source": [
    "def frequency_decoding(alphabet_, text):\n",
    "    old_alphabet = [k for k, v in alphabet_.most_common()]\n",
    "    curr_dict = Counter(text)\n",
    "    new_alphabet = [k for k, v in curr_dict.most_common()]\n",
    "    decode_alphabet = {k: v for k, v in zip(new_alphabet, old_alphabet)}\n",
    "    decode_text = [decode_alphabet[ch] for ch in text]\n",
    "    \n",
    "    return ''.join(decode_text)"
   ]
  },
  {
   "cell_type": "code",
   "execution_count": 415,
   "metadata": {},
   "outputs": [
    {
     "data": {
      "text/plain": [
       "'дцожгомёсцмвамтсцсмиаумваэцвлрмваьлсмгывччмдюсфжэюмёсцмяцыгэымуаэцвёасгомымыумлхцмкыувымюьлсмгпфгжмжыебмяцгжлмсцхцмэаэмьлгосбмжлсмвауаьмцвмнгчмьцицхюмцсмнлвлифмэмчяыслиюмгжюеажмиаггэауфмцьликыпфзмгсиагсбчмэмяюслелгсныопмцмгывлмдюсфжэлмнмкыувымюмвлхцмяцоныжагбмрлжбмжызциаьэамуакхжамлхцмымгмсцмяцифмцвмяфжаж'"
      ]
     },
     "execution_count": 415,
     "metadata": {},
     "output_type": "execute_result"
    }
   ],
   "source": [
    "text_sample = random_encoding(clear_text(test_text))\n",
    "text_sample"
   ]
  },
  {
   "cell_type": "code",
   "execution_count": 416,
   "metadata": {},
   "outputs": [],
   "source": [
    "def accuracy(enc_text, dec_text):\n",
    "    result = 0\n",
    "    for ch_old, ch_new in zip(enc_text, dec_text):\n",
    "        result += ch_old == ch_new\n",
    "    return result / len(enc_text)"
   ]
  },
  {
   "cell_type": "code",
   "execution_count": 417,
   "metadata": {},
   "outputs": [
    {
     "data": {
      "text/plain": [
       "'чоясня жео ла цеое рад лаволию лауие нтлгг чкемсвк жео потнвт даволжаеня т тд иьо зтдлт куие ншмнс стхы понси еоьо вав уиняеы сие ладау ол бнг уороьк ое билирм в гптеирк нскхас раннвадм оуирзтшмэ неранеыг в пкеихинебтяш о нтли чкемсви б зтдлт к лиьо поябтсаны юисы стэораува дазьса иьо т н ео порм ол пмсас'"
      ]
     },
     "execution_count": 417,
     "metadata": {},
     "output_type": "execute_result"
    }
   ],
   "source": [
    "decode_text = frequency_decoding(dict_, text_sample)\n",
    "decode_text"
   ]
  },
  {
   "cell_type": "code",
   "execution_count": 418,
   "metadata": {},
   "outputs": [
    {
     "data": {
      "text/plain": [
       "0.39215686274509803"
      ]
     },
     "execution_count": 418,
     "metadata": {},
     "output_type": "execute_result"
    }
   ],
   "source": [
    "accuracy(test_text, decode_text)"
   ]
  },
  {
   "cell_type": "markdown",
   "metadata": {},
   "source": [
    "### Задание 2: Метод с биграммами"
   ]
  },
  {
   "cell_type": "code",
   "execution_count": 419,
   "metadata": {},
   "outputs": [],
   "source": [
    "def build_frequency_base_pairs(text):\n",
    "    text_partitions = []\n",
    "    for i in range(len(text) - 1):\n",
    "        text_partitions.append(text[i : i + 2])\n",
    "\n",
    "    frequency_base = Counter(text_partitions)\n",
    "    return frequency_base"
   ]
  },
  {
   "cell_type": "code",
   "execution_count": 420,
   "metadata": {},
   "outputs": [],
   "source": [
    "dict_pairs = build_frequency_base_pairs(clear_text(partAnna + partPeace))"
   ]
  },
  {
   "cell_type": "code",
   "execution_count": 421,
   "metadata": {},
   "outputs": [
    {
     "data": {
      "text/plain": [
       "'озхцчхщврзщёещарзрщыебщёе зёстщёемсрщчнёуущопрлц пщврзщизнч нщбе зёверчхщнщнбщсьзщънбёнщпмсрщчглчцщцнэкщизчцсщрзьзщ е щмсчхркщцсрщёебемщзёщшчущмзызьпщзрщшсёсылщ щуинрсыпщчцпэецщыечч еблщзмсыънглфщчрыечркущ щипрсэсчршнхгщзщчнёсщопрлц сщшщънбёнщпщёсьзщизхшнцечкщтсцкщцнфзыем ещбеъьцещсьзщнщчщрзщизылщзёщилцец'"
      ]
     },
     "execution_count": 421,
     "metadata": {},
     "output_type": "execute_result"
    }
   ],
   "source": [
    "text_sample = random_encoding(clear_text(test_text))\n",
    "text_sample"
   ]
  },
  {
   "cell_type": "code",
   "execution_count": 422,
   "metadata": {},
   "outputs": [],
   "source": [
    "def frequency_decoding_pairs(alphabet_, text):\n",
    "    old_alphabet = [k for k, v in alphabet_.most_common()]\n",
    "    curr_dict = build_frequency_base_pairs(text)\n",
    "    new_alphabet = [k for k, v in curr_dict.most_common()]\n",
    "   \n",
    "    decode_alphabet = {k: v for k, v in zip(new_alphabet, old_alphabet[:len(new_alphabet)])}\n",
    "        \n",
    "    decode_text = [\"\" for i in range(len(text))]\n",
    "    for k, v in decode_alphabet.items():\n",
    "        for i in range(len(text) - 2):\n",
    "            if text[i: i + 2] == k:\n",
    "                if decode_text[i: i + 2] == ['', '']:\n",
    "                    decode_text[i: i + 2] = list(v) \n",
    "    \n",
    "    replaced = True\n",
    "    for i in range(len(text) - 2):\n",
    "        if decode_text[i] == '':   \n",
    "            for k, v in decode_alphabet.items():\n",
    "                if text[i: i + 2] == k:\n",
    "                    decode_text[i] = v[0] \n",
    "                elif text[i - 1: i + 1] == k:\n",
    "                    decode_text[i] = v[1]  \n",
    "    \n",
    "    return ''.join(decode_text)"
   ]
  },
  {
   "cell_type": "code",
   "execution_count": 423,
   "metadata": {},
   "outputs": [
    {
     "data": {
      "text/plain": [
       "' ть  керро тожеа  н ол споя ес сонаое ы иканов ттсторо ь дте внпоя льв кл в  олао е  к вюнаое риен дчеви  енвоа до рпоена кяалако сгоон пвотскану оди п нх  идам  эивтосуе матвил оатегом пнаррариые е олоака и овсоело здиео ре изаов тхвое е  к вг слао ь а за чалбобалдезн оожнониизунолао  е т о ь да пви  т'"
      ]
     },
     "execution_count": 423,
     "metadata": {},
     "output_type": "execute_result"
    }
   ],
   "source": [
    "decode_text = frequency_decoding_pairs(dict_pairs, text_sample)\n",
    "decode_text"
   ]
  },
  {
   "cell_type": "code",
   "execution_count": 424,
   "metadata": {},
   "outputs": [
    {
     "data": {
      "text/plain": [
       "0.1111111111111111"
      ]
     },
     "execution_count": 424,
     "metadata": {},
     "output_type": "execute_result"
    }
   ],
   "source": [
    "accuracy(test_text, decode_text)"
   ]
  },
  {
   "cell_type": "markdown",
   "metadata": {},
   "source": [
    "### Задание 3: MCMC-сэмплирование\n",
    "\n",
    "Будем итеративно менять местами две случайно выбранные буквы и оценивать вероятность закодированного текста как сумму вероятностей биграмм"
   ]
  },
  {
   "cell_type": "code",
   "execution_count": 425,
   "metadata": {},
   "outputs": [
    {
     "data": {
      "text/plain": [
       "'схевцещрохщпкщчохощшкящпкзхпжущпкфжощцдпннщстоёвзтщрохщэхдцздщякзхпркоцещдщдящжюхщбдяпдщтфжощцгёцвщвдлыщэхцвжщохюхщзкзщфжцеоыщвжощпкякфщхпщъцнщфхшхютщхощъжпжшёщзщнэдожштщцвтлквщшкццзкяёщхфжшбдгёащцошкцоынщзщэтожлжцоъдегщхщцдпжщстоёвзжщъщбдяпдщтщпжюхщэхеъдвкцыщужвыщвдахшкфзкщякбювкщжюхщдщцщохщэхшёщхпщэёвкв'"
      ]
     },
     "execution_count": 425,
     "metadata": {},
     "output_type": "execute_result"
    }
   ],
   "source": [
    "text_sample = random_encoding(clear_text(test_text))\n",
    "text_sample"
   ]
  },
  {
   "cell_type": "code",
   "execution_count": 426,
   "metadata": {},
   "outputs": [],
   "source": [
    "def calc_probabilities(alphabet_):\n",
    "    eps = 1e-10\n",
    "    symbol_proba = {ch: {letter: 0 for letter in alphabet} for ch in alphabet}\n",
    "    \n",
    "    for k, v in alphabet_.items():\n",
    "        symbol_proba[k[0]][k[1]] = v\n",
    "    symbol_sum = {ch: sum(symbol_proba[ch].values()) for ch in alphabet}    \n",
    "    \n",
    "    for ch, second_ch in symbol_proba.items():\n",
    "        for ch2, val in second_ch.items():\n",
    "            symbol_proba[ch][ch2] = np.log((symbol_proba[ch][ch2] + eps) / symbol_sum[ch])\n",
    "    \n",
    "    return symbol_proba\n",
    "\n",
    "def calc_likelihood(alphabet_, symbol_proba, text):\n",
    "    proba = 0\n",
    "    for i in range(0, len(text) - 1):\n",
    "        proba += symbol_proba[alphabet_[text[i]]][alphabet_[text[i + 1]]]\n",
    "    return proba"
   ]
  },
  {
   "cell_type": "code",
   "execution_count": 427,
   "metadata": {},
   "outputs": [],
   "source": [
    "pairs_proba = calc_probabilities(dict_pairs)"
   ]
  },
  {
   "cell_type": "code",
   "execution_count": null,
   "metadata": {},
   "outputs": [],
   "source": [
    "def get_mystery_alphabet(text, base, ru=True):\n",
    "    alphabet_ = build_frequency_base(text)\n",
    "    cur_alphabet = [ch for ch in alphabet_]\n",
    "    if ru:\n",
    "        for ch in alphabet:\n",
    "            if ch not in cur_alphabet:\n",
    "                cur_alphabet.append(ch)   \n",
    "    else:\n",
    "        for ch in range(len(alphabet) - len(cur_alphabet)):\n",
    "            cur_alphabet.append(str(ch))\n",
    "    decode_alphabet = {k: v for k, v in zip(cur_alphabet, base)}\n",
    "    \n",
    "    return decode_alphabet"
   ]
  },
  {
   "cell_type": "code",
   "execution_count": 429,
   "metadata": {},
   "outputs": [],
   "source": [
    "def running(text_sample, pairs_proba, cur_alphabet, msteps=4000):\n",
    "\n",
    "    sample_alphabet = ''.join(cur_alphabet.keys())\n",
    "    step = 0 \n",
    "\n",
    "    cur_proba = calc_likelihood(cur_alphabet, pairs_proba, text_sample)\n",
    "\n",
    "    best_proba = cur_proba\n",
    "    best_alphabet = cur_alphabet.copy()\n",
    "\n",
    "    while step < msteps:  \n",
    "        s_old, s_new = random.sample(sample_alphabet, 2)\n",
    "        if s_old != s_new:\n",
    "            new_alphabet = cur_alphabet.copy()\n",
    "            new_alphabet[s_old], new_alphabet[s_new] = cur_alphabet[s_new], cur_alphabet[s_old]\n",
    "\n",
    "            new_proba = calc_likelihood(new_alphabet, pairs_proba, text_sample)\n",
    "            if new_proba > cur_proba or random.random() < np.exp(new_proba - cur_proba):\n",
    "                cur_alphabet = new_alphabet.copy()\n",
    "                cur_proba = new_proba\n",
    "                step += 1 \n",
    "\n",
    "            if new_proba > best_proba:\n",
    "                best_proba = new_proba\n",
    "                best_alphabet = new_alphabet.copy()\n",
    "\n",
    "    decode_text = [best_alphabet[ch] for ch in text_sample]\n",
    "\n",
    "    return ''.join(decode_text)"
   ]
  },
  {
   "cell_type": "code",
   "execution_count": 430,
   "metadata": {},
   "outputs": [
    {
     "name": "stdout",
     "output_type": "stream",
     "text": [
      "поялся что на этот раз наконец надет синюю путылку что боиски закончатся и из его жизни удет смысл лишь босле того как десять лет назад он всю дорогу от венеры к юбитеру слушал рассказы одержимых страстью к бутешествиям о сине путылке в жизни у него боявилась цель лихорадка зажгла его и с то боры он былал\n",
      "0.9673202614379085\n"
     ]
    }
   ],
   "source": [
    "decode_text = running(text_sample, pairs_proba, get_mystery_alphabet(text_sample, dict_))\n",
    "print(decode_text)\n",
    "print(accuracy(test_text, decode_text))"
   ]
  },
  {
   "cell_type": "markdown",
   "metadata": {},
   "source": [
    "### Задание 4: Расшифровка сообщения\n",
    "\n",
    "←⇠⇒↟↹↷⇊↹↷↟↤↟↨←↹↝⇛⇯↳⇴⇒⇈↝⇊↾↹↟⇒↟↹⇷⇛⇞↨↟↹↝⇛⇯↳⇴⇒⇈↝⇊↾↹↨←⇌⇠↨↹⇙↹⇸↨⇛↙⇛↹⇠⇛⇛↲⇆←↝↟↞↹⇌⇛↨⇛⇯⇊↾↹⇒←↙⇌⇛↹⇷⇯⇛⇞↟↨⇴↨⇈↹⇠⇌⇛⇯←←↹↷⇠←↙⇛↹↷⇊↹↷⇠←↹⇠↤←⇒⇴⇒↟↹⇷⇯⇴↷↟⇒⇈↝⇛↹↟↹⇷⇛⇒⇙⇞↟↨←↹↳⇴⇌⇠↟↳⇴⇒⇈↝⇊↾↹↲⇴⇒⇒↹⇰⇴↹⇷⇛⇠⇒←↤↝←←↹⇞←↨↷←⇯↨⇛←↹⇰⇴↤⇴↝↟←↹⇌⇙⇯⇠⇴↹↘⇛↨↞↹⇌⇛↝←⇞↝⇛↹↞↹↝↟⇞←↙⇛↹↝←↹⇛↲←⇆⇴⇏"
   ]
  },
  {
   "cell_type": "code",
   "execution_count": 431,
   "metadata": {},
   "outputs": [],
   "source": [
    "text_mystery = '←⇠⇒↟↹↷⇊↹↷↟↤↟↨←↹↝⇛⇯↳⇴⇒⇈↝⇊↾↹↟⇒↟↹⇷⇛⇞↨↟↹↝⇛⇯↳⇴⇒⇈↝⇊↾↹↨←⇌⇠↨↹⇙↹⇸↨⇛↙⇛↹⇠⇛⇛↲⇆←↝↟↞↹⇌⇛↨⇛⇯⇊↾↹⇒←↙⇌⇛↹⇷⇯⇛⇞↟↨⇴↨⇈↹⇠⇌⇛⇯←←↹↷⇠←↙⇛↹↷⇊↹↷⇠←↹⇠↤←⇒⇴⇒↟↹⇷⇯⇴↷↟⇒⇈↝⇛↹↟↹⇷⇛⇒⇙⇞↟↨←↹↳⇴⇌⇠↟↳⇴⇒⇈↝⇊↾↹↲⇴⇒⇒↹⇰⇴↹⇷⇛⇠⇒←↤↝←←↹⇞←↨↷←⇯↨⇛←↹⇰⇴↤⇴↝↟←↹⇌⇙⇯⇠⇴↹↘⇛↨↞↹⇌⇛↝←⇞↝⇛↹↞↹↝↟⇞←↙⇛↹↝←↹⇛↲←⇆⇴⇏'"
   ]
  },
  {
   "cell_type": "code",
   "execution_count": 440,
   "metadata": {},
   "outputs": [
    {
     "name": "stdout",
     "output_type": "stream",
     "text": [
      "если вы вимите норжальных или почти норжальных текст у этого соодшения которых легко прочитать скорее всего вы все смелали правильно и получите жаксижальных далл за послемнее четвертое замание курса ботя конечно я ничего не одешаю\n"
     ]
    }
   ],
   "source": [
    "mystery_alphabet = get_mystery_alphabet(text_mystery, dict_, False)\n",
    "decode_text = running(text_mystery, pairs_proba, mystery_alphabet, 1000)\n",
    "print(decode_text)"
   ]
  }
 ],
 "metadata": {
  "kernelspec": {
   "display_name": "Python 3",
   "language": "python",
   "name": "python3"
  },
  "language_info": {
   "codemirror_mode": {
    "name": "ipython",
    "version": 3
   },
   "file_extension": ".py",
   "mimetype": "text/x-python",
   "name": "python",
   "nbconvert_exporter": "python",
   "pygments_lexer": "ipython3",
   "version": "3.7.6"
  }
 },
 "nbformat": 4,
 "nbformat_minor": 5
}
